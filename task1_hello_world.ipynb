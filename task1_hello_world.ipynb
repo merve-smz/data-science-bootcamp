{
 "cells": [
  {
   "cell_type": "code",
   "execution_count": 2,
   "metadata": {},
   "outputs": [
    {
     "name": "stdout",
     "output_type": "stream",
     "text": [
      "merve\n",
      "31\n"
     ]
    }
   ],
   "source": [
    "#kullanıcıdan isim ve yaşı input fonksiyonuyla al. \n",
    "#isim ve yaşı yazdır\n",
    "#hello world yazdır\n",
    "isim = input(\"Adınızı girin: \")\n",
    "yas= input(\"Yaşınızı Girin: \")\n",
    "print(isim)\n",
    "print(yas)"
   ]
  },
  {
   "cell_type": "code",
   "execution_count": 4,
   "metadata": {},
   "outputs": [
    {
     "name": "stdout",
     "output_type": "stream",
     "text": [
      "hello world\n"
     ]
    }
   ],
   "source": [
    "x=\"hello world\"\n",
    "print(x)\n"
   ]
  },
  {
   "cell_type": "code",
   "execution_count": 8,
   "metadata": {},
   "outputs": [
    {
     "name": "stdout",
     "output_type": "stream",
     "text": [
      "this is john smitthhe is 28 oldand lives at42onhamilton street\n"
     ]
    }
   ],
   "source": [
    "name= input(\"enter your name\")\n",
    "age =input(\"enter your age\")\n",
    "house_number =input(\"enter house number\")\n",
    "street =input(\"enter street name\")\n",
    "\n"
   ]
  },
  {
   "cell_type": "code",
   "execution_count": 10,
   "metadata": {},
   "outputs": [
    {
     "name": "stdout",
     "output_type": "stream",
     "text": [
      "this is john smitth he is 28 old and lives at 42 on hamilton street\n"
     ]
    }
   ],
   "source": [
    "print(\"this is \"+name +\" he is \"+age+\" old and lives at \"+ house_number +\" on \"+ street )"
   ]
  },
  {
   "cell_type": "code",
   "execution_count": 11,
   "metadata": {},
   "outputs": [
    {
     "name": "stdout",
     "output_type": "stream",
     "text": [
      "This is john smitth. He is 28 years old and lives at house number 42 on hamilton street.\n"
     ]
    }
   ],
   "source": [
    "print(f\"This is {name}. He is {age} years old and lives at house number {house_number} on {street}.\")"
   ]
  },
  {
   "cell_type": "markdown",
   "metadata": {},
   "source": [
    "Practical task 3"
   ]
  },
  {
   "cell_type": "code",
   "execution_count": 12,
   "metadata": {},
   "outputs": [
    {
     "name": "stdout",
     "output_type": "stream",
     "text": [
      "99\n",
      "23.0\n",
      "150\n",
      "100\n"
     ]
    }
   ],
   "source": [
    "num1 = 99.23\n",
    "num2 = 23\n",
    "num3 = 150\n",
    "string1 =\"100\"\n",
    "print (int(num1))\n",
    "print (float(num2))\n",
    "print (str(num3))\n",
    "print (int(string1))\n"
   ]
  }
 ],
 "metadata": {
  "kernelspec": {
   "display_name": "base",
   "language": "python",
   "name": "python3"
  },
  "language_info": {
   "codemirror_mode": {
    "name": "ipython",
    "version": 3
   },
   "file_extension": ".py",
   "mimetype": "text/x-python",
   "name": "python",
   "nbconvert_exporter": "python",
   "pygments_lexer": "ipython3",
   "version": "3.11.5"
  }
 },
 "nbformat": 4,
 "nbformat_minor": 2
}
