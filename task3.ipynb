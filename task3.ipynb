{
 "cells": [
  {
   "cell_type": "markdown",
   "metadata": {},
   "source": [
    "# Practical Task 1\n",
    "Follow these steps:\n",
    "- Create a new Python file called age-quiz.py. The program you create in\n",
    "this file will be used to output a variety of responses determined by the\n",
    "data the user enters. \n",
    "- If the user is 40 or over, output the message \"You're over the hill.\"\n",
    "- Write code to take in a user’s age and store it in an integer variable called\n",
    "age.\n",
    "- Assume that the oldest someone can be is 100; if the user enters a\n",
    "higher number, output the message \"Sorry, you're dead.\".\n",
    "- If the user is 65 or older, output the message \"Enjoy your retirement!\"\n",
    "- If the user is under 13, output the message \"You qualify for the kiddie\n",
    "discount.\"\n",
    "- If the user is 21, output the message \"Congrats on your 21st!\"\n",
    "- For any other age, output the message \"Age is but a number.\""
   ]
  },
  {
   "cell_type": "code",
   "execution_count": 10,
   "metadata": {},
   "outputs": [
    {
     "name": "stdout",
     "output_type": "stream",
     "text": [
      "You qualify for kiddie discount.\n"
     ]
    }
   ],
   "source": [
    "# Ask user age and print a message.\n",
    "age = int(input(\"Enter your age\"))\n",
    "if age >= 100:\n",
    "    print(\"Sorry, you're dead.\")\n",
    "elif age >= 65:\n",
    "    print(\" Enjoy your retirement!\")\n",
    "elif age >= 40:\n",
    "    print(\"You're over the hill.\")\n",
    "elif age == 21:\n",
    "    print(\"Cograts on your 21st!\")\n",
    "elif age <= 13:\n",
    "    print(\"You qualify for kiddie discount.\")\n",
    "else:\n",
    "    print(\"Age is but a number\")"
   ]
  }
 ],
 "metadata": {
  "kernelspec": {
   "display_name": "base",
   "language": "python",
   "name": "python3"
  },
  "language_info": {
   "codemirror_mode": {
    "name": "ipython",
    "version": 3
   },
   "file_extension": ".py",
   "mimetype": "text/x-python",
   "name": "python",
   "nbconvert_exporter": "python",
   "pygments_lexer": "ipython3",
   "version": "3.11.5"
  }
 },
 "nbformat": 4,
 "nbformat_minor": 2
}
