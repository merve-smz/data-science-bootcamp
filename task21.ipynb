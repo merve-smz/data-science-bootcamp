{
 "cells": [
  {
   "cell_type": "code",
   "execution_count": 1,
   "metadata": {},
   "outputs": [],
   "source": [
    "import spacy\n",
    "import pandas\n",
    "from spacytextblob.spacytextblob import SpacyTextBlob"
   ]
  },
  {
   "cell_type": "code",
   "execution_count": 2,
   "metadata": {},
   "outputs": [
    {
     "data": {
      "text/plain": [
       "<spacytextblob.spacytextblob.SpacyTextBlob at 0x11fc6059e50>"
      ]
     },
     "execution_count": 2,
     "metadata": {},
     "output_type": "execute_result"
    }
   ],
   "source": [
    "# Load English tokenizer, tagger, parser and NER\n",
    "nlp = spacy.load(\"en_core_web_sm\")\n",
    "nlp.add_pipe('spacytextblob')\n"
   ]
  },
  {
   "cell_type": "code",
   "execution_count": 3,
   "metadata": {},
   "outputs": [
    {
     "name": "stderr",
     "output_type": "stream",
     "text": [
      "C:\\Users\\merve\\AppData\\Local\\Temp\\ipykernel_2812\\3032244305.py:1: DtypeWarning: Columns (1,10) have mixed types. Specify dtype option on import or set low_memory=False.\n",
      "  df = pandas.read_csv('data/amazon_product_reviews.csv')\n"
     ]
    }
   ],
   "source": [
    "df = pandas.read_csv('data/amazon_product_reviews.csv')\n",
    "clean_data = df.dropna(subset=['reviews.text'])"
   ]
  },
  {
   "cell_type": "code",
   "execution_count": 12,
   "metadata": {},
   "outputs": [],
   "source": [
    "def sentiment_analysis(text: str):\n",
    "    # Basic text cleaning\n",
    "    text = text.lower()\n",
    "    text = text.strip()\n",
    "    # Process text\n",
    "    document = nlp(text)\n",
    "    # Remove stop words\n",
    "    filtered_tokens = [token.text for token in document if not token.is_stop]\n",
    "    clean_text = ' '.join(filtered_tokens)\n",
    "    clean_doc = nlp(clean_text)\n",
    "    polarity = clean_doc._.blob.polarity\n",
    "    return polarity"
   ]
  },
  {
   "cell_type": "code",
   "execution_count": 18,
   "metadata": {},
   "outputs": [
    {
     "name": "stdout",
     "output_type": "stream",
     "text": [
      "---Processing sample 0\n",
      "Review: My older kids helped me put in the child safety features and then it works great for my special needs daughter\n",
      "Rating: 5.0\n",
      "Polarity: 0.44126984126984126\n",
      "---Processing sample 1\n",
      "Review: I like the size of the device as well as the expandable storage\n",
      "Rating: 5.0\n",
      "Polarity: 0.0\n",
      "---Processing sample 2\n",
      "Review: Good features alexa integrates very well into daily lives also speaker sound is quite good\n",
      "Rating: 5.0\n",
      "Polarity: 0.45\n",
      "---Processing sample 3\n",
      "Review: I'm really enjoying my kindle fire. I love the size and the ability to fit it into my purse. Great for reading on the plane.\n",
      "Rating: 5.0\n",
      "Polarity: 0.55\n",
      "---Processing sample 4\n",
      "Review: Unit has fast response time. Graphics are very clear.\n",
      "Rating: 4.0\n",
      "Polarity: 0.15000000000000002\n",
      "---Processing sample 5\n",
      "Review: This is a great tablet. I bought it for my daughter and it's very easy for her to use.\n",
      "Rating: 5.0\n",
      "Polarity: 0.6166666666666667\n",
      "---Processing sample 6\n",
      "Review: Amazon FireTV is a powerful little box. Worth the extra money over the Firestick. Great interface. Can connect your phone and type input. Alexa capability too.\n",
      "Rating: 5.0\n",
      "Polarity: 0.2425\n",
      "---Processing sample 7\n",
      "Review: This is the second Kindle Paperwhite that I have bought. The first is now in use by another family member. I truly enjoy reading with this e-reader. Is it easy to adjust text size and brightness, depending on your needs and room lighting.\n",
      "Rating: 5.0\n",
      "Polarity: 0.2777777777777778\n",
      "---Processing sample 8\n",
      "Review: Perfect for on the go use, especially when your charging your phone. Wonderful product! Very impressed!\n",
      "Rating: 5.0\n",
      "Polarity: 0.75\n",
      "---Processing sample 9\n",
      "Review: my husband loves this. we coupled it with the playstation vue streaming service for $30/mo and dropped cox cable totally. we found that the amazon fire box offers a channel guide for ps vue that the roku does not, which is def a helpful feature to have with ps vue.\n",
      "Rating: 5.0\n",
      "Polarity: 0.05\n"
     ]
    }
   ],
   "source": [
    "n_samples = 10\n",
    "# Select random rows\n",
    "sample_df = clean_data.sample(n_samples).reset_index()\n",
    "for i in range(n_samples):\n",
    "    print(f'---Processing sample {i}')\n",
    "    text = sample_df['reviews.text'][i]\n",
    "    rating = sample_df['reviews.rating'][i]\n",
    "    polarity = sentiment_analysis(text)\n",
    "    print(f'Review: {text}')\n",
    "    print(f'Rating: {rating}')\n",
    "    print(f'Polarity: {polarity}')"
   ]
  },
  {
   "cell_type": "code",
   "execution_count": null,
   "metadata": {},
   "outputs": [],
   "source": []
  }
 ],
 "metadata": {
  "kernelspec": {
   "display_name": "base",
   "language": "python",
   "name": "python3"
  },
  "language_info": {
   "codemirror_mode": {
    "name": "ipython",
    "version": 3
   },
   "file_extension": ".py",
   "mimetype": "text/x-python",
   "name": "python",
   "nbconvert_exporter": "python",
   "pygments_lexer": "ipython3",
   "version": "3.11.7"
  }
 },
 "nbformat": 4,
 "nbformat_minor": 2
}
