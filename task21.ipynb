{
 "cells": [
  {
   "cell_type": "markdown",
   "metadata": {},
   "source": [
    "# About the dataset\n",
    "\n",
    "The \"Consumer Reviews of Amazon Products\" dataset is a comprehensive collection of data that includes detailed information about products sold on Amazon, along with customer reviews. This dataset is valuable for a variety of research and analysis purposes, particularly in fields such as Natural Language Processing (NLP), Information Retrieval (IR), and Machine Learning (ML). Here's a summary of what the dataset contains based on the provided sources:\n",
    "\n",
    "1. Basic Product Information: This includes details about the products being reviewed, such as descriptions, category information, price, brand, and image features.\n",
    "2. Reviews: The dataset encompasses reviews which contain ratings, text, and votes on the helpfulness of the review. This allows for analysis of customer sentiment and the perceived quality of products.\n",
    "3. Metadata: Additional metadata provided includes product metadata like descriptions and category information, which can be used for more detailed analysis and categorization of products.\n",
    "4. Usage Conditions: Accessing and using these datasets comes with specific conditions, especially for academic research. Commercial use is generally restricted, and users are prohibited from attempting to identify the authors of the reviews.\n",
    "\n",
    "The dataset serves as a rich source of information for analyzing customer product experiences, understanding variations in product perception across different regions, and studying promotional intent or bias in reviews. It's constructed to represent a wide range of customer evaluations and opinions, making it a valuable resource for researchers and analysts looking to dive deep into consumer behavior.\n",
    "\n",
    "# Preprocessing\n",
    "\n",
    "I preprocess the the in several steps.\n",
    "\n",
    "1. I first drop the reviews that do not contain a review text.\n",
    "2. I apply basic text cleaning on the text review such as `.lower()` and `strip()`\n",
    "3. Finally, I apply an NLP filtering for the stop-words using the `spacy` library.\n",
    "\n",
    "# Evaluation of results.\n",
    "\n",
    "I choose random samples from the dataset and apply my sentiment analysis. To evaluate my results, I cross-check the predicted 'polarity' scores of the `spacy` library with the provided text and rating score.\n",
    "\n",
    "# Limitations\n",
    "\n",
    "The `en_core_web_sm` `spacy` model is a limited model for NLP purposes. The predictions are not accurate all the time. For example:\n",
    "```\n",
    "Review: my husband loves this. we coupled it with the playstation vue streaming service for $30/mo and dropped cox cable totally. we found that the amazon fire box offers a channel guide for ps vue that the roku does not, which is def a helpful feature to have with ps vue.\n",
    "Rating: 5.0\n",
    "Polarity: 0.05\n",
    "```\n",
    "As we can wee, although the review text and rating score are highly positive, the polarity score is almost neutral. This might be caused by the model's over-sensitivity to the corpus such as  'dropped cox cable totally' from the review."
   ]
  },
  {
   "cell_type": "code",
   "execution_count": 1,
   "metadata": {},
   "outputs": [],
   "source": [
    "import spacy\n",
    "import pandas\n",
    "from spacytextblob.spacytextblob import SpacyTextBlob"
   ]
  },
  {
   "cell_type": "code",
   "execution_count": 2,
   "metadata": {},
   "outputs": [
    {
     "data": {
      "text/plain": [
       "<spacytextblob.spacytextblob.SpacyTextBlob at 0x11fc6059e50>"
      ]
     },
     "execution_count": 2,
     "metadata": {},
     "output_type": "execute_result"
    }
   ],
   "source": [
    "# Load English tokenizer, tagger, parser and NER\n",
    "nlp = spacy.load(\"en_core_web_sm\")\n",
    "nlp.add_pipe('spacytextblob')\n"
   ]
  },
  {
   "cell_type": "code",
   "execution_count": 3,
   "metadata": {},
   "outputs": [
    {
     "name": "stderr",
     "output_type": "stream",
     "text": [
      "C:\\Users\\merve\\AppData\\Local\\Temp\\ipykernel_2812\\3032244305.py:1: DtypeWarning: Columns (1,10) have mixed types. Specify dtype option on import or set low_memory=False.\n",
      "  df = pandas.read_csv('data/amazon_product_reviews.csv')\n"
     ]
    }
   ],
   "source": [
    "df = pandas.read_csv('data/amazon_product_reviews.csv')\n",
    "clean_data = df.dropna(subset=['reviews.text'])"
   ]
  },
  {
   "cell_type": "code",
   "execution_count": 12,
   "metadata": {},
   "outputs": [],
   "source": [
    "def sentiment_analysis(text: str):\n",
    "    # Basic text cleaning\n",
    "    text = text.lower()\n",
    "    text = text.strip()\n",
    "    # Process text\n",
    "    document = nlp(text)\n",
    "    # Remove stop words\n",
    "    filtered_tokens = [token.text for token in document if not token.is_stop]\n",
    "    clean_text = ' '.join(filtered_tokens)\n",
    "    clean_doc = nlp(clean_text)\n",
    "    polarity = clean_doc._.blob.polarity\n",
    "    return polarity"
   ]
  },
  {
   "cell_type": "code",
   "execution_count": 18,
   "metadata": {},
   "outputs": [
    {
     "name": "stdout",
     "output_type": "stream",
     "text": [
      "---Processing sample 0\n",
      "Review: My older kids helped me put in the child safety features and then it works great for my special needs daughter\n",
      "Rating: 5.0\n",
      "Polarity: 0.44126984126984126\n",
      "---Processing sample 1\n",
      "Review: I like the size of the device as well as the expandable storage\n",
      "Rating: 5.0\n",
      "Polarity: 0.0\n",
      "---Processing sample 2\n",
      "Review: Good features alexa integrates very well into daily lives also speaker sound is quite good\n",
      "Rating: 5.0\n",
      "Polarity: 0.45\n",
      "---Processing sample 3\n",
      "Review: I'm really enjoying my kindle fire. I love the size and the ability to fit it into my purse. Great for reading on the plane.\n",
      "Rating: 5.0\n",
      "Polarity: 0.55\n",
      "---Processing sample 4\n",
      "Review: Unit has fast response time. Graphics are very clear.\n",
      "Rating: 4.0\n",
      "Polarity: 0.15000000000000002\n",
      "---Processing sample 5\n",
      "Review: This is a great tablet. I bought it for my daughter and it's very easy for her to use.\n",
      "Rating: 5.0\n",
      "Polarity: 0.6166666666666667\n",
      "---Processing sample 6\n",
      "Review: Amazon FireTV is a powerful little box. Worth the extra money over the Firestick. Great interface. Can connect your phone and type input. Alexa capability too.\n",
      "Rating: 5.0\n",
      "Polarity: 0.2425\n",
      "---Processing sample 7\n",
      "Review: This is the second Kindle Paperwhite that I have bought. The first is now in use by another family member. I truly enjoy reading with this e-reader. Is it easy to adjust text size and brightness, depending on your needs and room lighting.\n",
      "Rating: 5.0\n",
      "Polarity: 0.2777777777777778\n",
      "---Processing sample 8\n",
      "Review: Perfect for on the go use, especially when your charging your phone. Wonderful product! Very impressed!\n",
      "Rating: 5.0\n",
      "Polarity: 0.75\n",
      "---Processing sample 9\n",
      "Review: my husband loves this. we coupled it with the playstation vue streaming service for $30/mo and dropped cox cable totally. we found that the amazon fire box offers a channel guide for ps vue that the roku does not, which is def a helpful feature to have with ps vue.\n",
      "Rating: 5.0\n",
      "Polarity: 0.05\n"
     ]
    }
   ],
   "source": [
    "n_samples = 10\n",
    "# Select random rows\n",
    "sample_df = clean_data.sample(n_samples).reset_index()\n",
    "for i in range(n_samples):\n",
    "    print(f'---Processing sample {i}')\n",
    "    text = sample_df['reviews.text'][i]\n",
    "    rating = sample_df['reviews.rating'][i]\n",
    "    polarity = sentiment_analysis(text)\n",
    "    print(f'Review: {text}')\n",
    "    print(f'Rating: {rating}')\n",
    "    print(f'Polarity: {polarity}')"
   ]
  },
  {
   "cell_type": "code",
   "execution_count": null,
   "metadata": {},
   "outputs": [],
   "source": []
  }
 ],
 "metadata": {
  "kernelspec": {
   "display_name": "base",
   "language": "python",
   "name": "python3"
  },
  "language_info": {
   "codemirror_mode": {
    "name": "ipython",
    "version": 3
   },
   "file_extension": ".py",
   "mimetype": "text/x-python",
   "name": "python",
   "nbconvert_exporter": "python",
   "pygments_lexer": "ipython3",
   "version": "3.11.7"
  }
 },
 "nbformat": 4,
 "nbformat_minor": 2
}
