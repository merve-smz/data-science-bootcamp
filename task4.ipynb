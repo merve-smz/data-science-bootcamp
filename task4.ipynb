{
 "cells": [
  {
   "cell_type": "markdown",
   "metadata": {},
   "source": [
    "# Practical Task 1\n",
    "Follow these steps:\n",
    "- Create a new Python file in this folder called award.py.\n",
    "- Design a program that determines the award a person competing in a\n",
    "triathlon will receive.\n",
    "- Your program should read in the times (in minutes) for all three events of a\n",
    "triathlon, namely swimming, cycling, and running, and then calculate and\n",
    "display the total time taken to complete the triathlon.\n",
    "- The award a participant receives is based on the total time taken to\n",
    "complete the triathlon. The qualifying time for awards is 100 minutes.\n",
    "Display the award that the participant will receive based on the following\n",
    "criteria:\n",
    "Qualifying Criteria Time Range Award\n",
    "  - Within the qualifying time. 0 - 100 minutes Provincial Colours\n",
    "  - Within 5 minutes of the qualifying time. 101 - 105 minutes Provincial Half Colours\n",
    "  - Within 10 minutes of the qualifying time. 106 - 110 minutes Provincial Scroll\n",
    "  - More than 10 minutes off from the qualifying time. 111+ minutes No award"
   ]
  },
  {
   "cell_type": "code",
   "execution_count": 3,
   "metadata": {},
   "outputs": [
    {
     "name": "stdout",
     "output_type": "stream",
     "text": [
      "No award\n"
     ]
    }
   ],
   "source": [
    "# Ask triathlon times and print the awards.\n",
    "swimming = int(input(\" Enter swimming time\"))\n",
    "cycling = int(input(\"Enter cycling time\"))\n",
    "running = int(input(\"Enter running time\"))\n",
    "total_time = swimming + cycling + running\n",
    "if total_time > 0 and total_time <= 100:\n",
    "    print(\"Provincial Colours\")\n",
    "elif total_time <= 105:\n",
    "    print(\"Provincial Half Colours\")\n",
    "elif total_time <= 110:\n",
    "    print(\"Provincial Scroll\")\n",
    "else:\n",
    "    print(\"No award\")"
   ]
  }
 ],
 "metadata": {
  "kernelspec": {
   "display_name": "base",
   "language": "python",
   "name": "python3"
  },
  "language_info": {
   "codemirror_mode": {
    "name": "ipython",
    "version": 3
   },
   "file_extension": ".py",
   "mimetype": "text/x-python",
   "name": "python",
   "nbconvert_exporter": "python",
   "pygments_lexer": "ipython3",
   "version": "3.11.5"
  }
 },
 "nbformat": 4,
 "nbformat_minor": 2
}
