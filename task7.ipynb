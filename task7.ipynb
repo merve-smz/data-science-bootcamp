{
 "cells": [
  {
   "cell_type": "markdown",
   "metadata": {},
   "source": [
    "# Practical Task 1\n",
    "Follow these steps:\n",
    "- Create a file called while.py.\n",
    "- Write a program that continually asks the user to enter a number.\n",
    "- When the user enters “-1”, the program should stop requesting the user\n",
    "to enter a number,\n",
    "- The program must then calculate the average of the numbers entered,\n",
    "excluding the -1."
   ]
  },
  {
   "cell_type": "code",
   "execution_count": 3,
   "metadata": {},
   "outputs": [
    {
     "name": "stdout",
     "output_type": "stream",
     "text": [
      "average of the numbers entered 4.666666666666667\n"
     ]
    }
   ],
   "source": [
    "# ask user to type numbers and calculate the mean.\n",
    "total = 0\n",
    "count = 0\n",
    "i = int(input(\"Type a number: \"))\n",
    "while i != -1:\n",
    "    total = total + i\n",
    "    count = count + 1\n",
    "\n",
    "    i = int(input(\"Type a number: \"))\n",
    "mean = total / count\n",
    "print(f\"average of the numbers entered {mean}\")"
   ]
  }
 ],
 "metadata": {
  "kernelspec": {
   "display_name": "base",
   "language": "python",
   "name": "python3"
  },
  "language_info": {
   "codemirror_mode": {
    "name": "ipython",
    "version": 3
   },
   "file_extension": ".py",
   "mimetype": "text/x-python",
   "name": "python",
   "nbconvert_exporter": "python",
   "pygments_lexer": "ipython3",
   "version": "3.11.5"
  }
 },
 "nbformat": 4,
 "nbformat_minor": 2
}
