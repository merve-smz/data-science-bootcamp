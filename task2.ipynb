{
 "cells": [
  {
   "cell_type": "markdown",
   "metadata": {},
   "source": [
    "# Practical Task 1 \n",
    "Follow these steps:\n",
    "- Create a new Python file called replace.py.\n",
    "- Save the sentence: “The!quick!brown!fox!jumps!over!the!lazy!dog.” as a\n",
    "single string.\n",
    "- Reprint this sentence as “The quick brown fox jumps over the lazy dog.”\n",
    "using the replace() function to replace every “!” exclamation mark with a\n",
    "blank space.\n",
    "- Reprint that sentence as: “THE QUICK BROWN FOX JUMPS OVER THE\n",
    "LAZY DOG.” using the upper() function\n",
    "- Print the sentence in reverse. (Hint: review what you learned about slicing."
   ]
  },
  {
   "cell_type": "code",
   "execution_count": 16,
   "metadata": {},
   "outputs": [
    {
     "name": "stdout",
     "output_type": "stream",
     "text": [
      "The!quick!brown!fox!jumps!over!the!lazy!dog.\n",
      "The quick brown fox jumps over the lazy dog.\n",
      "THE QUICK BROWN FOX JUMPS OVER THE LAZY DOG.\n",
      "THE QUICK BROWN FOX JUMPS OVER THE LAZY DOG.\n",
      ".GOD YZAL EHT REVO SPMUJ XOF NWORB KCIUQ EHT\n"
     ]
    }
   ],
   "source": [
    "# We print the input string.\n",
    "x = \"The!quick!brown!fox!jumps!over!the!lazy!dog.\"\n",
    "print(x)\n",
    "\n",
    "# We replace and print the input string without !.\n",
    "x_replaced = x.replace(\"!\", \" \")\n",
    "print(x_replaced)\n",
    "\n",
    "# We convert and print the input string with upper case.\n",
    "x_upper = x_replaced.upper()\n",
    "print(x_upper)\n",
    "\n",
    "\n",
    "# We reversed and print the upper string.\n",
    "x_reversed = x_upper[::-1]\n",
    "print(x_reversed)"
   ]
  },
  {
   "cell_type": "markdown",
   "metadata": {},
   "source": [
    "# Practical Task 2\n",
    "\n",
    "Follow these steps:\n",
    "- Create a new Python file in the Dropbox folder for this task, and call it\n",
    "manipulation.py.\n",
    "- Ask the user to enter a sentence using the input() method. Save the user’s\n",
    "response in a variable called str_manip.\n",
    "- Using this string value, write the code to do the following:\n",
    "  - Calculate and display the length of str_manip.\n",
    "  - Find the last letter in str_manip sentence. Replace every occurrence\n",
    "of this letter in str_manip with ‘@’.\n",
    "    - e.g. if str_manip = “This is a bunch of words”, the output would\n",
    "be: “Thi@ i@ a bunch of word@”\n",
    "  - Print the last 3 characters in str_manip backwards.\n",
    "    - e.g. if str_manip = “This is a bunch of words”, the output would\n",
    "be: “sdr”.\n",
    "  - Create a five-letter word that is made up of the first three characters\n",
    "and the last two characters in str_manip.\n",
    "    - e.g. if str_manip = “This is a bunch of words”, the output\n",
    "would be: “Thids”."
   ]
  },
  {
   "cell_type": "code",
   "execution_count": 38,
   "metadata": {},
   "outputs": [],
   "source": [
    "# We ask the users enter a sentence. \n",
    "str_manip = input('Enter a sentence: ')\n"
   ]
  },
  {
   "cell_type": "code",
   "execution_count": 39,
   "metadata": {},
   "outputs": [
    {
     "name": "stdout",
     "output_type": "stream",
     "text": [
      "26\n"
     ]
    }
   ],
   "source": [
    "# We calculate and print length of input sentence. \n",
    "len_str_manip=len(str_manip)\n",
    "print(len_str_manip)"
   ]
  },
  {
   "cell_type": "code",
   "execution_count": 43,
   "metadata": {},
   "outputs": [
    {
     "name": "stdout",
     "output_type": "stream",
     "text": [
      "r\n",
      "me@ve çok güzel kod yaza@.\n"
     ]
    }
   ],
   "source": [
    "# We find and print last letter, then replace every occurance input sentence with \"@\".\n",
    "last_letter_str_manip= str_manip[-2]\n",
    "print(last_letter_str_manip)\n",
    "r_str_manip= str_manip.replace(last_letter_str_manip,\"@\")\n",
    "print(r_str_manip)"
   ]
  },
  {
   "cell_type": "code",
   "execution_count": 48,
   "metadata": {},
   "outputs": [
    {
     "name": "stdout",
     "output_type": "stream",
     "text": [
      "zar\n",
      "raz\n"
     ]
    }
   ],
   "source": [
    "# We find and print last 3 charancter of input sentence and reversed. \n",
    "last_3= str_manip[-4:-1]\n",
    "print(last_3)\n",
    "print(last_3[::-1])"
   ]
  },
  {
   "cell_type": "code",
   "execution_count": 53,
   "metadata": {},
   "outputs": [
    {
     "name": "stdout",
     "output_type": "stream",
     "text": [
      "merar\n"
     ]
    }
   ],
   "source": [
    "# We merged first 3 letters and last 2 letters. \n",
    "print(str_manip[:3]+ str_manip[-3:-1])"
   ]
  },
  {
   "cell_type": "markdown",
   "metadata": {},
   "source": [
    "# Practical Task 3\n",
    "\n",
    "Follow these steps:\n",
    "- Create a new Python file called numbers.py.\n",
    "- Ask the user to enter three different integers.\n",
    "- Then print out:\n",
    "  - The sum of all the numbers\n",
    "  - The first number minus the second number\n",
    "  - The third number multiplied by the first number\n",
    "  - The sum of all three numbers divided by the third number"
   ]
  },
  {
   "cell_type": "code",
   "execution_count": 54,
   "metadata": {},
   "outputs": [
    {
     "name": "stdout",
     "output_type": "stream",
     "text": [
      "15\n",
      "-2\n",
      "21\n",
      "2.142857142857143\n"
     ]
    }
   ],
   "source": [
    "# We calculate and print number arithmatics.\n",
    "x= int(input( \"Enter First Number\"))\n",
    "y= int(input(\"Enter Second Number\"))\n",
    "z= int(input(\"enter Third Number\"))\n",
    "print(x+y+z)\n",
    "print(x-y)\n",
    "print(z*x)\n",
    "print((x+y+z)/z)"
   ]
  },
  {
   "cell_type": "markdown",
   "metadata": {},
   "source": [
    "# Challenge 1\n",
    "- Create a new Python file in the Dropbox folder for this task, and call it\n",
    "challenge_1.py.\n",
    "- Ask the user to enter the lengths of all three sides of a triangle.\n",
    "- Calculate the area of the triangle.\n",
    "- Print out the area.\n",
    "- Hints:\n",
    " - If side1, side2 and side3 are the sides of the triangle:\n",
    "    - s = (side1 + side2 + side3)/2 and\n",
    "    - area = √(s(s-a)*(s-b)*(s-c))\n",
    "  - You’ll need to be able to calculate the square root"
   ]
  },
  {
   "cell_type": "code",
   "execution_count": 56,
   "metadata": {},
   "outputs": [
    {
     "name": "stdout",
     "output_type": "stream",
     "text": [
      "24.0\n"
     ]
    }
   ],
   "source": [
    "#we calculate and print arithmatics.\n",
    "import math \n",
    "\n",
    "side1= float(input(\"Enter first side\"))\n",
    "side2= float(input (\"Enter second side\"))\n",
    "side3= float(input(\"Enter third side\"))\n",
    "s= ( side1 + side2+ side3 )/2\n",
    "area= math.sqrt(s*(s-side1)*(s-side2)*( s-side3))\n",
    "print (area)"
   ]
  },
  {
   "cell_type": "markdown",
   "metadata": {},
   "source": [
    "# Challenge 2\n",
    "- Create a new file called challenge_2.py.\n",
    "- Write Python code to take the name of a user's favourite restaurant and\n",
    "store it in a variable called string_fav.\n",
    "- Below this, write a statement to take in the user's favourite number. Use\n",
    "casting to store it in an integer variable called int_fav.\n",
    "- Print out both of these using two separate print statements below what\n",
    "you have written. Be careful!\n",
    "- Once this is working, try to cast string_fav to an integer. What happens?\n",
    "Add a comment in your code to explain why this is."
   ]
  },
  {
   "cell_type": "code",
   "execution_count": 57,
   "metadata": {},
   "outputs": [],
   "source": [
    "fav_restaurant= input(\"Enter Favorite restaurant\")\n",
    "fav_number= int(input(\" Enter favorite number\"))\n"
   ]
  },
  {
   "cell_type": "code",
   "execution_count": 58,
   "metadata": {},
   "outputs": [
    {
     "name": "stdout",
     "output_type": "stream",
     "text": [
      "13\n",
      "Bodrum\n"
     ]
    }
   ],
   "source": [
    "print(fav_number)\n",
    "print (fav_restaurant)"
   ]
  },
  {
   "cell_type": "code",
   "execution_count": 59,
   "metadata": {},
   "outputs": [
    {
     "ename": "ValueError",
     "evalue": "invalid literal for int() with base 10: 'Bodrum'",
     "output_type": "error",
     "traceback": [
      "\u001b[1;31m---------------------------------------------------------------------------\u001b[0m",
      "\u001b[1;31mValueError\u001b[0m                                Traceback (most recent call last)",
      "Cell \u001b[1;32mIn[59], line 1\u001b[0m\n\u001b[1;32m----> 1\u001b[0m \u001b[38;5;28mprint\u001b[39m( \u001b[38;5;28mint\u001b[39m(fav_restaurant))\n",
      "\u001b[1;31mValueError\u001b[0m: invalid literal for int() with base 10: 'Bodrum'"
     ]
    }
   ],
   "source": [
    "print( int(fav_restaurant))"
   ]
  },
  {
   "cell_type": "markdown",
   "metadata": {},
   "source": [
    "The above code did not work because of value error. Because integer casting fanction espects numbers not text. \n"
   ]
  }
 ],
 "metadata": {
  "kernelspec": {
   "display_name": "base",
   "language": "python",
   "name": "python3"
  },
  "language_info": {
   "codemirror_mode": {
    "name": "ipython",
    "version": 3
   },
   "file_extension": ".py",
   "mimetype": "text/x-python",
   "name": "python",
   "nbconvert_exporter": "python",
   "pygments_lexer": "ipython3",
   "version": "3.11.5"
  }
 },
 "nbformat": 4,
 "nbformat_minor": 2
}
