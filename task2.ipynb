{
 "cells": [
  {
   "cell_type": "markdown",
   "metadata": {},
   "source": [
    "# Practical Task 1 \n",
    "Follow these steps:\n",
    "- Create a new Python file called replace.py.\n",
    "- Save the sentence: “The!quick!brown!fox!jumps!over!the!lazy!dog.” as a\n",
    "single string.\n",
    "- Reprint this sentence as “The quick brown fox jumps over the lazy dog.”\n",
    "using the replace() function to replace every “!” exclamation mark with a\n",
    "blank space.\n",
    "- Reprint that sentence as: “THE QUICK BROWN FOX JUMPS OVER THE\n",
    "LAZY DOG.” using the upper() function\n",
    "- Print the sentence in reverse. (Hint: review what you learned about slicing."
   ]
  },
  {
   "cell_type": "code",
   "execution_count": 16,
   "metadata": {},
   "outputs": [
    {
     "name": "stdout",
     "output_type": "stream",
     "text": [
      "The!quick!brown!fox!jumps!over!the!lazy!dog.\n",
      "The quick brown fox jumps over the lazy dog.\n",
      "THE QUICK BROWN FOX JUMPS OVER THE LAZY DOG.\n",
      "THE QUICK BROWN FOX JUMPS OVER THE LAZY DOG.\n",
      ".GOD YZAL EHT REVO SPMUJ XOF NWORB KCIUQ EHT\n"
     ]
    }
   ],
   "source": [
    "# We print the input string.\n",
    "x = \"The!quick!brown!fox!jumps!over!the!lazy!dog.\"\n",
    "print(x)\n",
    "\n",
    "# We replace and print the input string without !.\n",
    "x_replaced = x.replace(\"!\", \" \") \n",
    "print(x_replaced)\n",
    "\n",
    "# We convert and print the input string with upper case. \n",
    "x_upper= x_replaced.upper()\n",
    "print(x_upper)\n",
    "\n",
    "\n",
    "# We reversed and print the upper string. \n",
    "x_reversed= x_upper[::-1]\n",
    "print(x_reversed)\n",
    "\n",
    "\n",
    "\n"
   ]
  },
  {
   "cell_type": "markdown",
   "metadata": {},
   "source": []
  }
 ],
 "metadata": {
  "kernelspec": {
   "display_name": "base",
   "language": "python",
   "name": "python3"
  },
  "language_info": {
   "codemirror_mode": {
    "name": "ipython",
    "version": 3
   },
   "file_extension": ".py",
   "mimetype": "text/x-python",
   "name": "python",
   "nbconvert_exporter": "python",
   "pygments_lexer": "ipython3",
   "version": "3.11.5"
  }
 },
 "nbformat": 4,
 "nbformat_minor": 2
}
