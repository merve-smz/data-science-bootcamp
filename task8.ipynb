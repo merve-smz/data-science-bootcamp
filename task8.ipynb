{
 "cells": [
  {
   "cell_type": "markdown",
   "metadata": {},
   "source": [
    "# Practical Task 1\n",
    "Follow these steps:\n",
    "- Create a new Python file in this folder called pattern.py.\n",
    "- Write code to output the star pattern shown below, using an if-else\n",
    "statement in combination with a single for loop (it’s really easy with two,\n",
    "but using only one takes a little more thought!):\n",
    "- \\*\n",
    "- \\**\n",
    "- \\***\n",
    "- \\****\n",
    "- \\*****\n",
    "- \\****\n",
    "- \\***\n",
    "- \\**\n",
    "- \\*\n"
   ]
  },
  {
   "cell_type": "code",
   "execution_count": 28,
   "metadata": {},
   "outputs": [
    {
     "name": "stdout",
     "output_type": "stream",
     "text": [
      "*\n",
      "**\n",
      "***\n",
      "****\n",
      "*****\n",
      "******\n",
      "*******\n",
      "********\n",
      "*******\n",
      "******\n",
      "*****\n",
      "****\n",
      "***\n",
      "**\n",
      "*\n"
     ]
    }
   ],
   "source": [
    "x = int(input(\"Enter number\"))\n",
    "for i in range(1, x):\n",
    "    if i <= x / 2:\n",
    "        print(i * \"*\")\n",
    "    else:\n",
    "        print((x - i) * \"*\")"
   ]
  }
 ],
 "metadata": {
  "kernelspec": {
   "display_name": "base",
   "language": "python",
   "name": "python3"
  },
  "language_info": {
   "codemirror_mode": {
    "name": "ipython",
    "version": 3
   },
   "file_extension": ".py",
   "mimetype": "text/x-python",
   "name": "python",
   "nbconvert_exporter": "python",
   "pygments_lexer": "ipython3",
   "version": "3.11.5"
  }
 },
 "nbformat": 4,
 "nbformat_minor": 2
}
