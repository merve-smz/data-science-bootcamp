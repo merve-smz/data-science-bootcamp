{
 "cells": [
  {
   "cell_type": "markdown",
   "metadata": {},
   "source": [
    " # Capstone Project\n",
    "For this Capstone Project, assume that you have been approached by a small\n",
    "financial company and asked to create a program that allows the user to access\n",
    "two different financial calculators: an investment calculator and a home loan\n",
    "repayment calculator.\n",
    "- Create a new Python file in this folder called finance_calculators.py.\n",
    "- At the top of the file include the line: import math.\n",
    "- Write the code that will do the following:\n",
    "1. The user should be allowed to choose which calculation they want to do.\n",
    "The first output that the user sees when the program runs should look like\n",
    "this :\n",
    "investment - to calculate the amount of interest you'll earn on your investment\n",
    "bond - to calculate the amount you'll have to pay on a home loan\n",
    "Enter either 'investment' or 'bond' from the menu above to proceed:\n",
    "2. How the user capitalises their selection should not affect how the\n",
    "program proceeds. i.e. ‘Bond’, ‘bond’, ‘BOND’ or ‘investment’, ‘Investment’,\n",
    "‘INVESTMENT’, etc., should all be recognised as valid entries. If the user\n",
    "doesn’t type in a valid input, show an appropriate error message.\n",
    "3. If the user selects ‘investment’, do the following:\n",
    "- Ask the user to input:\n",
    "  - The amount of money that they are depositing.\n",
    "  - The interest rate (as a percentage). Only the number of the interest\n",
    "rate should be entered — don’t worry about having to deal with the\n",
    "added ‘%’, e.g. The user should enter 8 and not 8%.\n",
    "  - The number of years they plan on investing.\n",
    "  - Then ask the user to input if they want “simple” or “compound”\n",
    "interest, and store this in a variable called interest. Depending on\n",
    "whether or not they typed “simple” or “compound”, output the\n",
    "appropriate amount that they will get back after the given period,\n",
    "at the specified interest rate. See below for the formula to be used:"
   ]
  },
  {
   "cell_type": "markdown",
   "metadata": {},
   "source": [
    " # Interest formula:\n",
    "The total amount when simple interest is applied is calculated as\n",
    "follows: 𝐴 = 𝑃(1 + 𝑟 × 𝑡)\n",
    "The Python equivalent is very similar: A = P *(1 + r*t)\n",
    "The total amount when compound interest is applied is calculated as\n",
    "follows: 𝐴 = 𝑃(1 + 𝑟)𝑡\n",
    "The Python equivalent is slightly different: A = P * math.pow((1+r),t)\n",
    "In the formulae above:\n",
    "- ‘r’ is the interest entered above divided by 100, e.g. if 8% is entered,\n",
    "then r is 0.08.\n",
    "- ‘P’ is the amount that the user deposits.\n",
    "- ‘t’ is the number of years that the money is being invested.\n",
    "- ‘A’ is the total amount once the interest has been applied.\n",
    "  - Print out the answer!\n",
    "  - Try entering 20 years and 8 (%) and see what the difference is\n",
    "depending on the type of interest rate!\n",
    "4. If the user selects ‘bond’, do the following:\n",
    "- Ask the user to input:\n",
    "  - The present value of the house. e.g. 100000\n",
    "  - The interest rate. e.g. 7\n",
    "  - The number of months they plan to take to repay the bond. e.g. 120\n",
    "Bond repayment formula:\n",
    "The amount that a person will have to be repaid on a home loan each\n",
    "month is calculated as follows: 𝑟𝑒𝑝𝑎𝑦𝑚𝑒𝑛𝑡 = 𝑖 × 𝑃\n",
    "1− (1+𝑖)−𝑛\n",
    "The Python equivalent is slightly different:\n",
    "repayment = (i * P)/(1 - (1 + i)**(-n))\n",
    "In the formula above:\n",
    "- ‘P’ is the present value of the house."
   ]
  },
  {
   "cell_type": "markdown",
   "metadata": {},
   "source": [
    "- ‘i’ is the monthly interest rate, calculated by dividing the annual\n",
    "interest rate by 12. Remember to divide the interest entered by\n",
    "the user by 100 e.g. (8 / 100) before dividing by 12.\n",
    "- ‘n’ is the number of months over which the bond will be repaid.\n",
    "  - Calculate how much money the user will have to repay each month\n",
    "and output the answer"
   ]
  },
  {
   "cell_type": "code",
   "execution_count": 1,
   "metadata": {},
   "outputs": [],
   "source": [
    "import math"
   ]
  },
  {
   "cell_type": "code",
   "execution_count": 21,
   "metadata": {},
   "outputs": [
    {
     "name": "stdout",
     "output_type": "stream",
     "text": [
      "bond\n"
     ]
    }
   ],
   "source": [
    "choice = input (\"\"\"investment - to calculate the amount of interest you'll earn on your investment\n",
    "bond - to calculate the amount you'll have to pay on a home loan\n",
    "Enter either 'investment' or 'bond' from the menu above to proceed \"\"\")\n",
    "print(choice)"
   ]
  },
  {
   "cell_type": "code",
   "execution_count": 22,
   "metadata": {},
   "outputs": [
    {
     "name": "stdout",
     "output_type": "stream",
     "text": [
      "your choice is bond\n",
      "You will have to repay each month 50000.0\n"
     ]
    }
   ],
   "source": [
    "low_choice = choice.lower()\n",
    "if low_choice == \"investment\":\n",
    "    print(\"Your choice is investment\")\n",
    "    deposit = float(input(\" Enter deposit amount :\"))\n",
    "    int_rate = float(input(\"Enter interest rate % :\"))\n",
    "    year = int(input(\" Enter investment year: \"))\n",
    "    interest = input(\" Enter interest type 'simple' or 'compound': \")\n",
    "    low_interest = interest.lower()\n",
    "    r = int_rate / 100\n",
    "    P = deposit\n",
    "    t = year\n",
    "    if low_interest == \"simple\":\n",
    "        print(\"Your interest choice is simple\")\n",
    "        A = P * (1 + r * t)\n",
    "        print(f\"Your total amount is {A}\")\n",
    "    elif low_interest == \"compound\":\n",
    "        print(\"Your interest choice is compound\")\n",
    "        A = P * math.pow((1 + r), t)\n",
    "        print(f\"Your total amount is {A}\")\n",
    "    else:\n",
    "        print(\"Error! Your  interest choice is invalid\")\n",
    "\n",
    "elif low_choice == \"bond\":\n",
    "    print(\"your choice is bond\")\n",
    "    house = float(input(\"Enter present Value of the house\"))\n",
    "    int_rate = float(input(\"Enter interest rate\"))\n",
    "    month = int(\n",
    "        input(\"Enter the number of months they plan to take to repay the bond.\")\n",
    "    )\n",
    "    P = house\n",
    "    i = int_rate\n",
    "    n = month\n",
    "    repayment = (i * P) / (1 - (1 + i) ** (-n))\n",
    "    print(f\"You will have to repay each month {repayment}\")\n",
    "\n",
    "else:\n",
    "    print(\"Error! Your choice is invalid\")"
   ]
  }
 ],
 "metadata": {
  "kernelspec": {
   "display_name": "base",
   "language": "python",
   "name": "python3"
  },
  "language_info": {
   "codemirror_mode": {
    "name": "ipython",
    "version": 3
   },
   "file_extension": ".py",
   "mimetype": "text/x-python",
   "name": "python",
   "nbconvert_exporter": "python",
   "pygments_lexer": "ipython3",
   "version": "3.11.5"
  }
 },
 "nbformat": 4,
 "nbformat_minor": 2
}
