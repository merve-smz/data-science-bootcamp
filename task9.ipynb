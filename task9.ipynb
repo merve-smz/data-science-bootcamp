{
 "cells": [
  {
   "cell_type": "markdown",
   "metadata": {},
   "source": [
    "# Practical Task 1\n",
    "For both the errors.py and errors2.py task files in your folder, open the files and\n",
    "follow these steps:\n",
    "- Attempt to run the program. You will encounter various errors.\n",
    "- Fix the errors and then run the program.\n",
    "- Each time you fix an error, add a # comment in the line where you fixed it\n",
    "and indicate which of the three types of errors it was with a brief\n",
    "explanation of why that is.\n",
    "- Save the corrected file."
   ]
  },
  {
   "cell_type": "code",
   "execution_count": 4,
   "metadata": {},
   "outputs": [
    {
     "name": "stdout",
     "output_type": "stream",
     "text": [
      "Welcome to the error program\n",
      "\n",
      "\n",
      "I'm  24  years old.\n",
      "The total number of years:total_years\n",
      "In 3 years and 6 months, I'll be   330  months old\n"
     ]
    }
   ],
   "source": [
    "# This example program is meant to demonstrate errors.\n",
    "\n",
    "# There are some errors in this program. Run the program, look at the error messages, and find and fix the errors.\n",
    "\n",
    "print(\"Welcome to the error program\")\n",
    "print(\"\\n\")\n",
    "\n",
    "# Variables declaring the user's age, casting the str to an int, and printing the result\n",
    "age_Str = \"24\"\n",
    "age = int(age_Str)\n",
    "print(f\"I'm  {age}  years old.\")\n",
    "\n",
    "# Variables declaring additional years and printing the total years of age\n",
    "years_from_now = \"3\"\n",
    "total_years = age + int(years_from_now)\n",
    "\n",
    "print(\"The total number of years:\" + \"total_years\")\n",
    "\n",
    "# Variable to calculate the total amount of months from the total amount of years and printing the result\n",
    "total_months = total_years * 12 + 6\n",
    "print(f\"In 3 years and 6 months, I'll be   {total_months}  months old\")\n",
    "\n",
    "# HINT, 330 months is the correct answer"
   ]
  },
  {
   "cell_type": "code",
   "execution_count": 7,
   "metadata": {},
   "outputs": [
    {
     "name": "stdout",
     "output_type": "stream",
     "text": [
      "This is a Lion. It is a cub and it has 16 teeth\n"
     ]
    }
   ],
   "source": [
    "# This example program is meant to demonstrate errors.\n",
    "\n",
    "# There are some errors in this program. Run the program, look at the error messages, and find and fix the errors.\n",
    "\n",
    "animal = \"Lion\"\n",
    "animal_type = \"cub\"\n",
    "number_of_teeth = 16\n",
    "\n",
    "full_spec = (\n",
    "    f\"This is a {animal}. It is a {animal_type} and it has {number_of_teeth} teeth\"\n",
    ")\n",
    "\n",
    "print(full_spec)"
   ]
  }
 ],
 "metadata": {
  "kernelspec": {
   "display_name": "base",
   "language": "python",
   "name": "python3"
  },
  "language_info": {
   "codemirror_mode": {
    "name": "ipython",
    "version": 3
   },
   "file_extension": ".py",
   "mimetype": "text/x-python",
   "name": "python",
   "nbconvert_exporter": "python",
   "pygments_lexer": "ipython3",
   "version": "3.11.5"
  }
 },
 "nbformat": 4,
 "nbformat_minor": 2
}
